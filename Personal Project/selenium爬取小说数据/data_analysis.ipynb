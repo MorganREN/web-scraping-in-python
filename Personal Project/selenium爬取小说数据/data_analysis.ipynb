{
 "cells": [
  {
   "cell_type": "markdown",
   "id": "dc653ad0",
   "metadata": {},
   "source": [
    "# 数据分析并且可视化爬取结果"
   ]
  },
  {
   "cell_type": "markdown",
   "id": "0bb34d7a",
   "metadata": {},
   "source": [
    "### 导入爬取的csv文件"
   ]
  },
  {
   "cell_type": "code",
   "execution_count": 1,
   "id": "f5b27ce1",
   "metadata": {},
   "outputs": [
    {
     "data": {
      "text/html": [
       "<div>\n",
       "<style scoped>\n",
       "    .dataframe tbody tr th:only-of-type {\n",
       "        vertical-align: middle;\n",
       "    }\n",
       "\n",
       "    .dataframe tbody tr th {\n",
       "        vertical-align: top;\n",
       "    }\n",
       "\n",
       "    .dataframe thead th {\n",
       "        text-align: right;\n",
       "    }\n",
       "</style>\n",
       "<table border=\"1\" class=\"dataframe\">\n",
       "  <thead>\n",
       "    <tr style=\"text-align: right;\">\n",
       "      <th></th>\n",
       "      <th>Img</th>\n",
       "      <th>title</th>\n",
       "      <th>author</th>\n",
       "      <th>types</th>\n",
       "      <th>status</th>\n",
       "      <th>click_num</th>\n",
       "      <th>intro</th>\n",
       "    </tr>\n",
       "  </thead>\n",
       "  <tbody>\n",
       "    <tr>\n",
       "      <th>0</th>\n",
       "      <td>https://bookcover.yuewen.com/qdbimg/349573/c_3...</td>\n",
       "      <td>天医凤九</td>\n",
       "      <td>凤炅</td>\n",
       "      <td>古代言情</td>\n",
       "      <td>已完结</td>\n",
       "      <td>530.55万</td>\n",
       "      <td>推荐我的新文《仙风药令》几句话简介：陌上人如...</td>\n",
       "    </tr>\n",
       "    <tr>\n",
       "      <th>1</th>\n",
       "      <td>https://bookcover.yuewen.com/qdbimg/349573/c_8...</td>\n",
       "      <td>恰似寒光遇骄阳</td>\n",
       "      <td>囧囧有妖</td>\n",
       "      <td>现代言情</td>\n",
       "      <td>已完结</td>\n",
       "      <td>261.2万</td>\n",
       "      <td>一觉醒来，她看着镜子里的自己， 爆炸头血腥纹...</td>\n",
       "    </tr>\n",
       "    <tr>\n",
       "      <th>2</th>\n",
       "      <td>https://bookcover.yuewen.com/qdbimg/349573/c_4...</td>\n",
       "      <td>许你万丈光芒好</td>\n",
       "      <td>囧囧有妖</td>\n",
       "      <td>现代言情</td>\n",
       "      <td>已完结</td>\n",
       "      <td>229.07万</td>\n",
       "      <td>“你救了我，我让我爹地以身相许！”宁夕意外救...</td>\n",
       "    </tr>\n",
       "    <tr>\n",
       "      <th>3</th>\n",
       "      <td>https://bookcover.yuewen.com/qdbimg/349573/c_9...</td>\n",
       "      <td>别闹，薄先生！</td>\n",
       "      <td>楠楠李</td>\n",
       "      <td>现代言情</td>\n",
       "      <td>已完结</td>\n",
       "      <td>415.75万</td>\n",
       "      <td>沈小姐忙着吃饭， 睡觉， 教渣渣如何做人！薄...</td>\n",
       "    </tr>\n",
       "    <tr>\n",
       "      <th>4</th>\n",
       "      <td>https://bookcover.yuewen.com/qdbimg/349573/c_4...</td>\n",
       "      <td>云家小九超皮哒</td>\n",
       "      <td>水清竹</td>\n",
       "      <td>玄幻言情</td>\n",
       "      <td>连载中</td>\n",
       "      <td>1130.69万</td>\n",
       "      <td>她是王牌特工，却穿越成邺城第一废柴奇葩女！本...</td>\n",
       "    </tr>\n",
       "  </tbody>\n",
       "</table>\n",
       "</div>"
      ],
      "text/plain": [
       "                                                 Img    title author types  \\\n",
       "0  https://bookcover.yuewen.com/qdbimg/349573/c_3...     天医凤九     凤炅  古代言情   \n",
       "1  https://bookcover.yuewen.com/qdbimg/349573/c_8...  恰似寒光遇骄阳   囧囧有妖  现代言情   \n",
       "2  https://bookcover.yuewen.com/qdbimg/349573/c_4...  许你万丈光芒好   囧囧有妖  现代言情   \n",
       "3  https://bookcover.yuewen.com/qdbimg/349573/c_9...  别闹，薄先生！    楠楠李  现代言情   \n",
       "4  https://bookcover.yuewen.com/qdbimg/349573/c_4...  云家小九超皮哒    水清竹  玄幻言情   \n",
       "\n",
       "  status click_num                                              intro  \n",
       "0    已完结   530.55万                          推荐我的新文《仙风药令》几句话简介：陌上人如...  \n",
       "1    已完结    261.2万                          一觉醒来，她看着镜子里的自己， 爆炸头血腥纹...  \n",
       "2    已完结   229.07万                          “你救了我，我让我爹地以身相许！”宁夕意外救...  \n",
       "3    已完结   415.75万                          沈小姐忙着吃饭， 睡觉， 教渣渣如何做人！薄...  \n",
       "4    连载中  1130.69万                          她是王牌特工，却穿越成邺城第一废柴奇葩女！本...  "
      ]
     },
     "execution_count": 1,
     "metadata": {},
     "output_type": "execute_result"
    }
   ],
   "source": [
    "import pandas as pd\n",
    "data = pd.read_csv(\"data.csv\", encoding='utf-8')\n",
    "data.head()"
   ]
  },
  {
   "cell_type": "markdown",
   "id": "14a70364",
   "metadata": {},
   "source": [
    "### 不同类型小说的占比"
   ]
  },
  {
   "cell_type": "code",
   "execution_count": 2,
   "id": "7674a901",
   "metadata": {},
   "outputs": [
    {
     "name": "stdout",
     "output_type": "stream",
     "text": [
      "['仙侠', '古代言情', '灵异', '玄幻', '玄幻言情', '现代言情', '科幻空间', '都市']\n",
      "[1, 24, 1, 7, 8, 33, 4, 2]\n"
     ]
    }
   ],
   "source": [
    "a = data.types.to_list()\n",
    "types = sorted(set(a))  # 将dataframe某列转为list后会有重复元素，再次转为set会去除重复元素，然后再转变为list\n",
    "print(types)\n",
    "number = []\n",
    "for spe_type in types:\n",
    "    count = 0\n",
    "    for i in range(len(a)):\n",
    "        if a[i] == spe_type:\n",
    "            count += 1\n",
    "    number.append(count)\n",
    "print(number)\n"
   ]
  },
  {
   "cell_type": "code",
   "execution_count": 3,
   "id": "0164f8b2",
   "metadata": {},
   "outputs": [
    {
     "data": {
      "text/plain": [
       "'C:\\\\Users\\\\Mohan Ren\\\\Desktop\\\\MorganREN\\\\web-scraping-in-python\\\\Personal Project\\\\selenium爬取小说数据\\\\novel_types.html'"
      ]
     },
     "execution_count": 3,
     "metadata": {},
     "output_type": "execute_result"
    }
   ],
   "source": [
    "from pyecharts import options as opts\n",
    "from pyecharts.charts import Page, Pie\n",
    "pie=(\n",
    "    Pie()\n",
    "    .add(\n",
    "            \"\",\n",
    "            [list(z) for z in zip(types, number)],\n",
    "            radius=[\"40%\", \"75%\"],\n",
    "        )\n",
    "        .set_global_opts(\n",
    "            title_opts=opts.TitleOpts(title=\"不同类型小说占比\"),\n",
    "            legend_opts=opts.LegendOpts(\n",
    "                orient=\"vertical\", pos_top=\"15%\", pos_left=\"2%\"\n",
    "            ),\n",
    "        )\n",
    "        .set_series_opts(label_opts=opts.LabelOpts(formatter=\"{b}: {c}\"))\n",
    "    )\n",
    "\n",
    "pie.render('novel_types.html')"
   ]
  },
  {
   "cell_type": "markdown",
   "id": "2700941c",
   "metadata": {},
   "source": [
    "### 完结小说占比"
   ]
  },
  {
   "cell_type": "code",
   "execution_count": 4,
   "id": "35cd655e",
   "metadata": {},
   "outputs": [
    {
     "name": "stdout",
     "output_type": "stream",
     "text": [
      "['已完结', '连载中']\n",
      "[59, 21]\n"
     ]
    }
   ],
   "source": [
    "b = data.status.to_list()\n",
    "status = ['已完结', '连载中']\n",
    "print(status)\n",
    "number = []\n",
    "for statu in status:\n",
    "    count = 0\n",
    "    for i in range(len(b)):\n",
    "        if b[i] == statu:\n",
    "            count += 1\n",
    "    number.append(count)\n",
    "print(number)"
   ]
  },
  {
   "cell_type": "code",
   "execution_count": 6,
   "id": "f5dfd48f",
   "metadata": {},
   "outputs": [
    {
     "data": {
      "text/plain": [
       "'C:\\\\Users\\\\Mohan Ren\\\\Desktop\\\\MorganREN\\\\web-scraping-in-python\\\\Personal Project\\\\selenium爬取小说数据\\\\novel_status.html'"
      ]
     },
     "execution_count": 6,
     "metadata": {},
     "output_type": "execute_result"
    }
   ],
   "source": [
    "pie=(\n",
    "        Pie()\n",
    "        .add(\"\", [list(z) for z in zip(status,number)])\n",
    "        .set_global_opts(title_opts=opts.TitleOpts(title=\"完结小说占比\"))\n",
    "        .set_series_opts(label_opts=opts.LabelOpts(formatter=\"{b}: {c}\"))\n",
    "        )\n",
    "\n",
    "pie.render('novel_status.html')"
   ]
  },
  {
   "cell_type": "code",
   "execution_count": null,
   "id": "91beba00",
   "metadata": {},
   "outputs": [],
   "source": []
  }
 ],
 "metadata": {
  "kernelspec": {
   "display_name": "Python 3",
   "language": "python",
   "name": "python3"
  },
  "language_info": {
   "codemirror_mode": {
    "name": "ipython",
    "version": 3
   },
   "file_extension": ".py",
   "mimetype": "text/x-python",
   "name": "python",
   "nbconvert_exporter": "python",
   "pygments_lexer": "ipython3",
   "version": "3.8.8"
  }
 },
 "nbformat": 4,
 "nbformat_minor": 5
}
